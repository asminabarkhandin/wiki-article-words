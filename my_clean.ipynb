{
 "cells": [
  {
   "cell_type": "code",
   "execution_count": 16,
   "metadata": {},
   "outputs": [],
   "source": [
    "import requests\n",
    "import json\n",
    "import re\n",
    "from operator import itemgetter\n",
    "import seaborn as sns"
   ]
  },
  {
   "cell_type": "code",
   "execution_count": 17,
   "metadata": {},
   "outputs": [],
   "source": [
    "#here we get json response from the website by name of article\n",
    "url = \"https://en.wikipedia.org/w/api.php\"\n",
    "def get_content(name):\n",
    "    res = requests.get(url, params={\"action\":\"query\", \"prop\": \"extracts\",\"titles\":name, \"format\":\"json\"})\n",
    "    return res.json()\n",
    "\n",
    "data = get_content(\"Ozone_layer\")"
   ]
  },
  {
   "cell_type": "code",
   "execution_count": 18,
   "metadata": {
    "tags": []
   },
   "outputs": [],
   "source": [
    "#here we take only html part of json response and clean it from html markup\n",
    "def merge_contents(data):\n",
    "    my_dict = list(data['query']['pages'].keys())\n",
    "    page_id = my_dict[0]\n",
    "    text = data['query']['pages'][page_id]['extract']\n",
    "    html_pattern = re.compile('<.*?>')\n",
    "    clean_text = re.sub(html_pattern, '', text)\n",
    "    return clean_text\n",
    "\n",
    "my_text = merge_contents(data)"
   ]
  },
  {
   "cell_type": "code",
   "execution_count": 19,
   "metadata": {},
   "outputs": [],
   "source": [
    "#here we take the text after cleaning and create a list of words from the text\n",
    "def tokenize(content):\n",
    "    res = re.split(\"\\. |, |\\.|\\n| |-|\\'|\\)|\\(|\\:|\\;|\\\"\", content)\n",
    "    arr = [x for x in res if x]\n",
    "    return arr\n",
    "\n",
    "arr = tokenize(my_text)"
   ]
  },
  {
   "cell_type": "code",
   "execution_count": 20,
   "metadata": {},
   "outputs": [],
   "source": [
    "#here we lower all words in our list\n",
    "def lower_collection(collection):\n",
    "    for i in range(len(collection)):\n",
    "        collection[i] = collection[i].lower()\n",
    "    return collection\n",
    "\n",
    "arr_l = lower_collection(arr)"
   ]
  },
  {
   "cell_type": "code",
   "execution_count": 29,
   "metadata": {},
   "outputs": [],
   "source": [
    "#here we remove useless words from our list\n",
    "stop_words = [\"the\", \"a\", \"of\", \"to\",\"is\",\"was\",\"as\",\"for\",\"are\",\"in\",\"at\",\"it\",\"about\",\"be\",\"by\", \"from\", \"on\", \"or\", \"that\", \"and\", \"s\"]\n",
    "def remove_stop_words(words, stop_words):\n",
    "    for word in words:\n",
    "        if word in stop_words:\n",
    "            words.remove(word)\n",
    "    return words\n",
    "\n",
    "filtered_collection = remove_stop_words(arr_l, stop_words)\n",
    "#filtered_collection"
   ]
  },
  {
   "cell_type": "code",
   "execution_count": 25,
   "metadata": {},
   "outputs": [],
   "source": [
    "#here we count frequencies of each word and sort them in desceding order\n",
    "def count_frequency(collection):\n",
    "    freq_dict = {}\n",
    "    for item in collection:\n",
    "        if(item in freq_dict):\n",
    "            freq_dict[item] = freq_dict[item] + 1\n",
    "        else:\n",
    "            freq_dict[item] = 1\n",
    "    sorted_freqs = {key:value for key,value in sorted(freq_dict.items(), key = itemgetter(1), reverse = True)}\n",
    "    return sorted_freqs\n",
    "\n",
    "freqs = count_frequency(filtered_collection)\n",
    "#freqs"
   ]
  },
  {
   "cell_type": "code",
   "execution_count": 26,
   "metadata": {},
   "outputs": [
    {
     "name": "stdout",
     "output_type": "stream",
     "text": [
      "ozone 82\n",
      "layer 28\n",
      "uv 17\n",
      "radiation 16\n",
      "ultraviolet 13\n",
      "stratosphere 12\n",
      "atmosphere 12\n",
      "earth 11\n",
      "o 11\n",
      "surface 10\n"
     ]
    }
   ],
   "source": [
    "#here we just print top n words\n",
    "def print_most_frequent(frequencies, n):\n",
    "    arr = list(frequencies.items())\n",
    "    for i in range(n):\n",
    "        print(arr[i][0], arr[i][1])\n",
    "        \n",
    "print_most_frequent(freqs, 10)"
   ]
  },
  {
   "cell_type": "code",
   "execution_count": 27,
   "metadata": {},
   "outputs": [
    {
     "data": {
      "image/png": "[encoded data removed]",
      "text/plain": [
       "<Figure size 432x288 with 1 Axes>"
      ]
     },
     "metadata": {
      "needs_background": "light"
     },
     "output_type": "display_data"
    }
   ],
   "source": [
    "#here we plot the top 25 words \n",
    "def plot_top_n(freqs, n):\n",
    "    x_arr = [v for k,v in freqs.items()]\n",
    "    y_arr = [k for k,v in freqs.items()]\n",
    "    sns.barplot(x=x_arr[0:n], y=y_arr[0:n])\n",
    "    \n",
    "plot_top_n(freqs, 25)"
   ]
  },
  {
   "cell_type": "code",
   "execution_count": null,
   "metadata": {},
   "outputs": [],
   "source": []
  }
 ],
 "metadata": {
  "kernelspec": {
   "display_name": "Python 3",
   "language": "python",
   "name": "python3"
  },
  "language_info": {
   "codemirror_mode": {
    "name": "ipython",
    "version": 3
   },
   "file_extension": ".py",
   "mimetype": "text/x-python",
   "name": "python",
   "nbconvert_exporter": "python",
   "pygments_lexer": "ipython3",
   "version": "3.9.2"
  },
  "metadata": {
   "interpreter": {
    "hash": "52e5905e7e705b36c109abc9bdc981762ebee0d136c2951df97990ca8a49ba59"
   }
  }
 },
 "nbformat": 4,
 "nbformat_minor": 4
}
